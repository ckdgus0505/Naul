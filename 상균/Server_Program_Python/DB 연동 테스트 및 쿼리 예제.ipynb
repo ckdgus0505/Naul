{
 "cells": [
  {
   "cell_type": "code",
   "execution_count": 1,
   "metadata": {},
   "outputs": [],
   "source": [
    "#pip install PyMySQL\n",
    "import pymysql as sql"
   ]
  },
  {
   "cell_type": "code",
   "execution_count": 2,
   "metadata": {},
   "outputs": [
    {
     "name": "stdout",
     "output_type": "stream",
     "text": [
      "Password : aitester001!\n"
     ]
    }
   ],
   "source": [
    "pw = input(\"Password : \")\n",
    "#aitester001!"
   ]
  },
  {
   "cell_type": "code",
   "execution_count": 3,
   "metadata": {},
   "outputs": [
    {
     "name": "stdout",
     "output_type": "stream",
     "text": [
      "(1, 'sangkyun')\n",
      "(10, 'dongseok')\n",
      "(11, 'changhyeon')\n",
      "(12, 'changhyeon')\n",
      "(13, 'changhyeon')\n",
      "(14, 'parkhyunjun')\n",
      "(16, 'god sang kyun')\n"
     ]
    }
   ],
   "source": [
    "#DB 연결\n",
    "conn = sql.connect(host='isg1031.iptime.org', port=20050, user='aitester', password=pw, db='ai', charset='utf8')\n",
    "\n",
    "cur = conn.cursor()\n",
    "\n",
    "cur.execute(\"SELECT * FROM test;\")\n",
    "\n",
    "conn.commit() #commit 을 해주지 않으면 변경사항이 반영되지 않습니다. flush privileges 같은 느낌..\n",
    "\n",
    "for row in cur.fetchall() :\n",
    "    print(row)\n",
    "conn.close()"
   ]
  },
  {
   "cell_type": "code",
   "execution_count": null,
   "metadata": {},
   "outputs": [],
   "source": [
    "#예제\n",
    "#cur.execute(\" 쿼리 \")\n",
    "print(\"insert into [table명] (column1, column2, ...) values (value1, value2, ...)\")\n",
    "print(\"update [table명] set column1=value1, column2=value2, ... where [PK column]=[KEY]\")\n",
    "print(\"예시 : update test set name='TEST' where num=1\")"
   ]
  }
 ],
 "metadata": {
  "kernelspec": {
   "display_name": "Python 3",
   "language": "python",
   "name": "python3"
  },
  "language_info": {
   "codemirror_mode": {
    "name": "ipython",
    "version": 3
   },
   "file_extension": ".py",
   "mimetype": "text/x-python",
   "name": "python",
   "nbconvert_exporter": "python",
   "pygments_lexer": "ipython3",
   "version": "3.7.3"
  }
 },
 "nbformat": 4,
 "nbformat_minor": 2
}
